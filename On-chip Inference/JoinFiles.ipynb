{
 "cells": [
  {
   "cell_type": "code",
   "execution_count": 8,
   "id": "795b56fb",
   "metadata": {},
   "outputs": [
    {
     "name": "stdout",
     "output_type": "stream",
     "text": [
      "✅ Successfully joined 2 files into './TA_txt/CIFAR2/hog/tm_CIFAR2_hog.txt' as one line.\n"
     ]
    }
   ],
   "source": [
    "import glob\n",
    "\n",
    "# Match all class TA state files in correct order\n",
    "file_list = sorted(glob.glob(\"./TA_txt/CIFAR2/hog/tm_class*_ta_states.txt\"))\n",
    "\n",
    "output_file = \"./TA_txt/CIFAR2/hog/tm_CIFAR2_hog.txt\"\n",
    "\n",
    "with open(output_file, \"w\") as outfile:\n",
    "    for fname in file_list:\n",
    "        with open(fname, \"r\") as infile:\n",
    "            # Read all content\n",
    "            content = infile.read()\n",
    "            # Normalize all whitespace to single space\n",
    "            content = \" \".join(content.split())\n",
    "            # Write to output with trailing space\n",
    "            outfile.write(content + \" \")\n",
    "\n",
    "print(f\"✅ Successfully joined {len(file_list)} files into '{output_file}' as one line.\")"
   ]
  },
  {
   "cell_type": "code",
   "execution_count": null,
   "id": "2e613cb8",
   "metadata": {},
   "outputs": [],
   "source": []
  }
 ],
 "metadata": {
  "kernelspec": {
   "display_name": "Python 3",
   "language": "python",
   "name": "python3"
  },
  "language_info": {
   "codemirror_mode": {
    "name": "ipython",
    "version": 3
   },
   "file_extension": ".py",
   "mimetype": "text/x-python",
   "name": "python",
   "nbconvert_exporter": "python",
   "pygments_lexer": "ipython3",
   "version": "3.13.5"
  }
 },
 "nbformat": 4,
 "nbformat_minor": 5
}
