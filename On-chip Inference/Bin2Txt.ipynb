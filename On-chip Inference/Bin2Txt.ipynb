{
 "cells": [
  {
   "cell_type": "code",
   "execution_count": 11,
   "id": "0f3e6b37",
   "metadata": {},
   "outputs": [
    {
     "name": "stdout",
     "output_type": "stream",
     "text": [
      "Saved: D:\\Tsetlin Machines\\Tsetlin Inference (VLSID)\\TA_txt\\CIFAR2\\binary-threshold\\tm_class0_ta_states.txt\n",
      "Saved: D:\\Tsetlin Machines\\Tsetlin Inference (VLSID)\\TA_txt\\CIFAR2\\binary-threshold\\tm_class1_ta_states.txt\n"
     ]
    }
   ],
   "source": [
    "import numpy as np\n",
    "import os\n",
    "import glob\n",
    "\n",
    "# Constants\n",
    "CLAUSES = 200\n",
    "FEATURES = 1024\n",
    "AUTOMATA = 2\n",
    "NUM_SHORTS = CLAUSES * FEATURES * AUTOMATA\n",
    "\n",
    "# Input directory with .bin files\n",
    "input_dir = \"D:\\\\Tsetlin Machines\\\\Tsetlin Inference (VLSID)\\\\TA bin\\\\CIFAR2\\\\binary-threshold\"\n",
    "output_dir = \"D:\\\\Tsetlin Machines\\\\Tsetlin Inference (VLSID)\\\\TA_txt\\\\CIFAR2\\\\binary-threshold\"  # Change if you want to save elsewhere\n",
    "\n",
    "# Process all tm_class*.bin files\n",
    "for bin_file in glob.glob(os.path.join(input_dir, \"tm_class*.bin\")):\n",
    "    # Extract class number from filename\n",
    "    base_name = os.path.basename(bin_file)\n",
    "    class_id = os.path.splitext(base_name)[0].split(\"tm_class\")[-1]\n",
    "\n",
    "    # Read binary file\n",
    "    with open(bin_file, \"rb\") as f:\n",
    "        raw_bytes = f.read()\n",
    "\n",
    "    # Parse as int16\n",
    "    ta_state = np.frombuffer(raw_bytes, dtype=np.int16, count=NUM_SHORTS)\n",
    "\n",
    "    # Reshape to (CLAUSES, FEATURES, AUTOMATA), then flatten to 2D\n",
    "    ta_state_2d = ta_state.reshape((CLAUSES, FEATURES * AUTOMATA))\n",
    "\n",
    "    # Save as .txt\n",
    "    txt_file = os.path.join(output_dir, f\"tm_class{class_id}_ta_states.txt\")\n",
    "    np.savetxt(txt_file, ta_state_2d, fmt=\"%d\")\n",
    "\n",
    "    print(f\"Saved: {txt_file}\")\n"
   ]
  },
  {
   "cell_type": "code",
   "execution_count": null,
   "id": "02338b99",
   "metadata": {},
   "outputs": [],
   "source": []
  }
 ],
 "metadata": {
  "kernelspec": {
   "display_name": "Python 3",
   "language": "python",
   "name": "python3"
  },
  "language_info": {
   "codemirror_mode": {
    "name": "ipython",
    "version": 3
   },
   "file_extension": ".py",
   "mimetype": "text/x-python",
   "name": "python",
   "nbconvert_exporter": "python",
   "pygments_lexer": "ipython3",
   "version": "3.13.5"
  }
 },
 "nbformat": 4,
 "nbformat_minor": 5
}
