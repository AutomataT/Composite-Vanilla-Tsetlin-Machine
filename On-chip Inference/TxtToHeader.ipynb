{
 "cells": [
  {
   "cell_type": "code",
   "execution_count": 13,
   "id": "1d265b26",
   "metadata": {},
   "outputs": [
    {
     "name": "stdout",
     "output_type": "stream",
     "text": [
      "✅ Generated D:\\Tsetlin Machines\\Tsetlin Inference (VLSID)\\Header files\\CIFAR2\\3x3-32\\inference_literals_3x3.h\n",
      "✅ Generated D:\\Tsetlin Machines\\Tsetlin Inference (VLSID)\\Header files\\CIFAR2\\3x3-32\\y_3x3.h\n",
      "✅ Generated D:\\Tsetlin Machines\\Tsetlin Inference (VLSID)\\Header files\\CIFAR2\\3x3-32\\IncEncTA_3x3.h\n",
      "✅ Generated D:\\Tsetlin Machines\\Tsetlin Inference (VLSID)\\Header files\\CIFAR2\\3x3-32\\INC_per_CLASS_3x3.h\n"
     ]
    }
   ],
   "source": [
    "import os\n",
    "\n",
    "def convert_to_header(filename, array_type, array_name, method_name, items_per_line=8):\n",
    "    # Read and parse numbers\n",
    "    with open(filename, 'r') as f:\n",
    "        values = [line.strip() for line in f if line.strip()]\n",
    "        values = [int(v) for v in values]\n",
    "\n",
    "    # Clean array_name to be C-compatible (only alphanumeric + _)\n",
    "    clean_name = os.path.splitext(os.path.basename(array_name))[0]\n",
    "    clean_name = clean_name.replace(\"-\", \"_\").replace(\" \", \"_\")\n",
    "    clean_name += f\"_{method_name}\";\n",
    "\n",
    "    # Header guard\n",
    "    header_guard = clean_name.upper() + \"_H\"\n",
    "\n",
    "    # Build header file content\n",
    "    output = [\n",
    "        f\"#ifndef {header_guard}\",\n",
    "        f\"#define {header_guard}\",\n",
    "        \"\",\n",
    "        f\"const {array_type} {clean_name}[] = {{\"\n",
    "    ]\n",
    "\n",
    "    for i in range(0, len(values), items_per_line):\n",
    "        chunk = \", \".join(str(v) for v in values[i:i+items_per_line])\n",
    "        output.append(\"  \" + chunk + \",\")\n",
    "\n",
    "    output.append(\"};\")\n",
    "    output.append(\"\")\n",
    "    output.append(f\"#endif // {header_guard}\")\n",
    "\n",
    "    # Save in same directory as array_name\n",
    "    out_path = array_name + f\"_{method_name}\" + \".h\"\n",
    "    with open(out_path, 'w') as out_file:\n",
    "        out_file.write(\"\\n\".join(output))\n",
    "\n",
    "    print(f\"✅ Generated {out_path}\")\n",
    "\n",
    "# Usage\n",
    "convert_to_header(\n",
    "    \"D:\\\\Tsetlin Machines\\\\Tsetlin Inference (VLSID)\\\\Header files\\\\CIFAR2\\\\3x3-32\\\\CIFAR2_REDRESS_Testfile32.txt\",\n",
    "    \"unsigned int\",\n",
    "    \"D:\\\\Tsetlin Machines\\\\Tsetlin Inference (VLSID)\\\\Header files\\\\CIFAR2\\\\3x3-32\\\\inference_literals\",\n",
    "    \"3x3\"\n",
    ")\n",
    "convert_to_header(\n",
    "    \"D:\\\\Tsetlin Machines\\\\Tsetlin Inference (VLSID)\\\\Header files\\\\CIFAR2\\\\3x3-32\\\\CIFAR2_REDRESS_classification_file32.txt\",\n",
    "    \"unsigned char\",\n",
    "    \"D:\\\\Tsetlin Machines\\\\Tsetlin Inference (VLSID)\\\\Header files\\\\CIFAR2\\\\3x3-32\\\\y\",\n",
    "    \"3x3\"\n",
    ")\n",
    "convert_to_header(\n",
    "    \"D:\\\\Tsetlin Machines\\\\Tsetlin Inference (VLSID)\\\\Header files\\\\CIFAR2\\\\3x3-32\\\\CIFAR21815_REDRESS_IncEncTA_C2_CL200_T30.txt\",\n",
    "    \"unsigned short\",\n",
    "    \"D:\\\\Tsetlin Machines\\\\Tsetlin Inference (VLSID)\\\\Header files\\\\CIFAR2\\\\3x3-32\\\\IncEncTA\",\n",
    "    \"3x3\"\n",
    ")\n",
    "convert_to_header(\n",
    "    \"D:\\\\Tsetlin Machines\\\\Tsetlin Inference (VLSID)\\\\Header files\\\\CIFAR2\\\\3x3-32\\\\CIFAR21815_REDRESS_Inc_per_class.txt\",\n",
    "    \"unsigned short\",\n",
    "    \"D:\\\\Tsetlin Machines\\\\Tsetlin Inference (VLSID)\\\\Header files\\\\CIFAR2\\\\3x3-32\\\\INC_per_CLASS\",\n",
    "    \"3x3\"\n",
    ")\n"
   ]
  },
  {
   "cell_type": "code",
   "execution_count": null,
   "id": "f66b730a",
   "metadata": {},
   "outputs": [],
   "source": []
  }
 ],
 "metadata": {
  "kernelspec": {
   "display_name": "Python 3",
   "language": "python",
   "name": "python3"
  },
  "language_info": {
   "codemirror_mode": {
    "name": "ipython",
    "version": 3
   },
   "file_extension": ".py",
   "mimetype": "text/x-python",
   "name": "python",
   "nbconvert_exporter": "python",
   "pygments_lexer": "ipython3",
   "version": "3.13.5"
  }
 },
 "nbformat": 4,
 "nbformat_minor": 5
}
